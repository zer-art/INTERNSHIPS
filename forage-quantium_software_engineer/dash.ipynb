{
 "cells": [
  {
   "cell_type": "code",
   "execution_count": 1,
   "id": "d3fdabed",
   "metadata": {},
   "outputs": [],
   "source": [
    "import pandas as pd \n",
    "import os"
   ]
  },
  {
   "cell_type": "code",
   "execution_count": 2,
   "id": "d2acc8fa",
   "metadata": {},
   "outputs": [],
   "source": [
    "os.getcwd()\n",
    "current_directory = os.getcwd()"
   ]
  },
  {
   "cell_type": "code",
   "execution_count": 3,
   "id": "58ded0a9",
   "metadata": {},
   "outputs": [
    {
     "data": {
      "application/vnd.microsoft.datawrangler.viewer.v0+json": {
       "columns": [
        {
         "name": "index",
         "rawType": "int64",
         "type": "integer"
        },
        {
         "name": "product",
         "rawType": "object",
         "type": "string"
        },
        {
         "name": "price",
         "rawType": "object",
         "type": "string"
        },
        {
         "name": "quantity",
         "rawType": "int64",
         "type": "integer"
        },
        {
         "name": "date",
         "rawType": "object",
         "type": "string"
        },
        {
         "name": "region",
         "rawType": "object",
         "type": "string"
        }
       ],
       "ref": "0af03271-21fa-415d-b66a-e2295ac96f94",
       "rows": [
        [
         "0",
         "pink morsel",
         "$3.00",
         "546",
         "2018-02-06",
         "north"
        ],
        [
         "1",
         "pink morsel",
         "$3.00",
         "549",
         "2018-02-06",
         "south"
        ],
        [
         "2",
         "pink morsel",
         "$3.00",
         "577",
         "2018-02-06",
         "east"
        ],
        [
         "3",
         "pink morsel",
         "$3.00",
         "519",
         "2018-02-06",
         "west"
        ],
        [
         "4",
         "gold morsel",
         "$9.99",
         "580",
         "2018-02-06",
         "north"
        ]
       ],
       "shape": {
        "columns": 5,
        "rows": 5
       }
      },
      "text/html": [
       "<div>\n",
       "<style scoped>\n",
       "    .dataframe tbody tr th:only-of-type {\n",
       "        vertical-align: middle;\n",
       "    }\n",
       "\n",
       "    .dataframe tbody tr th {\n",
       "        vertical-align: top;\n",
       "    }\n",
       "\n",
       "    .dataframe thead th {\n",
       "        text-align: right;\n",
       "    }\n",
       "</style>\n",
       "<table border=\"1\" class=\"dataframe\">\n",
       "  <thead>\n",
       "    <tr style=\"text-align: right;\">\n",
       "      <th></th>\n",
       "      <th>product</th>\n",
       "      <th>price</th>\n",
       "      <th>quantity</th>\n",
       "      <th>date</th>\n",
       "      <th>region</th>\n",
       "    </tr>\n",
       "  </thead>\n",
       "  <tbody>\n",
       "    <tr>\n",
       "      <th>0</th>\n",
       "      <td>pink morsel</td>\n",
       "      <td>$3.00</td>\n",
       "      <td>546</td>\n",
       "      <td>2018-02-06</td>\n",
       "      <td>north</td>\n",
       "    </tr>\n",
       "    <tr>\n",
       "      <th>1</th>\n",
       "      <td>pink morsel</td>\n",
       "      <td>$3.00</td>\n",
       "      <td>549</td>\n",
       "      <td>2018-02-06</td>\n",
       "      <td>south</td>\n",
       "    </tr>\n",
       "    <tr>\n",
       "      <th>2</th>\n",
       "      <td>pink morsel</td>\n",
       "      <td>$3.00</td>\n",
       "      <td>577</td>\n",
       "      <td>2018-02-06</td>\n",
       "      <td>east</td>\n",
       "    </tr>\n",
       "    <tr>\n",
       "      <th>3</th>\n",
       "      <td>pink morsel</td>\n",
       "      <td>$3.00</td>\n",
       "      <td>519</td>\n",
       "      <td>2018-02-06</td>\n",
       "      <td>west</td>\n",
       "    </tr>\n",
       "    <tr>\n",
       "      <th>4</th>\n",
       "      <td>gold morsel</td>\n",
       "      <td>$9.99</td>\n",
       "      <td>580</td>\n",
       "      <td>2018-02-06</td>\n",
       "      <td>north</td>\n",
       "    </tr>\n",
       "  </tbody>\n",
       "</table>\n",
       "</div>"
      ],
      "text/plain": [
       "       product  price  quantity        date region\n",
       "0  pink morsel  $3.00       546  2018-02-06  north\n",
       "1  pink morsel  $3.00       549  2018-02-06  south\n",
       "2  pink morsel  $3.00       577  2018-02-06   east\n",
       "3  pink morsel  $3.00       519  2018-02-06   west\n",
       "4  gold morsel  $9.99       580  2018-02-06  north"
      ]
     },
     "execution_count": 3,
     "metadata": {},
     "output_type": "execute_result"
    }
   ],
   "source": [
    "d0 = pd.read_csv('data/daily_sales_data_0.csv')\n",
    "d0.head()"
   ]
  },
  {
   "cell_type": "code",
   "execution_count": 4,
   "id": "1d2d3b72",
   "metadata": {},
   "outputs": [
    {
     "data": {
      "application/vnd.microsoft.datawrangler.viewer.v0+json": {
       "columns": [
        {
         "name": "index",
         "rawType": "int64",
         "type": "integer"
        },
        {
         "name": "product",
         "rawType": "object",
         "type": "string"
        },
        {
         "name": "price",
         "rawType": "object",
         "type": "string"
        },
        {
         "name": "quantity",
         "rawType": "int64",
         "type": "integer"
        },
        {
         "name": "date",
         "rawType": "object",
         "type": "string"
        },
        {
         "name": "region",
         "rawType": "object",
         "type": "string"
        }
       ],
       "ref": "cf457b83-4907-4bb0-82b1-be648bac2df2",
       "rows": [
        [
         "0",
         "pink morsel",
         "$3.00",
         "545",
         "2019-06-11",
         "north"
        ],
        [
         "1",
         "pink morsel",
         "$3.00",
         "521",
         "2019-06-11",
         "south"
        ],
        [
         "2",
         "pink morsel",
         "$3.00",
         "595",
         "2019-06-11",
         "east"
        ],
        [
         "3",
         "pink morsel",
         "$3.00",
         "507",
         "2019-06-11",
         "west"
        ],
        [
         "4",
         "gold morsel",
         "$9.99",
         "529",
         "2019-06-11",
         "north"
        ]
       ],
       "shape": {
        "columns": 5,
        "rows": 5
       }
      },
      "text/html": [
       "<div>\n",
       "<style scoped>\n",
       "    .dataframe tbody tr th:only-of-type {\n",
       "        vertical-align: middle;\n",
       "    }\n",
       "\n",
       "    .dataframe tbody tr th {\n",
       "        vertical-align: top;\n",
       "    }\n",
       "\n",
       "    .dataframe thead th {\n",
       "        text-align: right;\n",
       "    }\n",
       "</style>\n",
       "<table border=\"1\" class=\"dataframe\">\n",
       "  <thead>\n",
       "    <tr style=\"text-align: right;\">\n",
       "      <th></th>\n",
       "      <th>product</th>\n",
       "      <th>price</th>\n",
       "      <th>quantity</th>\n",
       "      <th>date</th>\n",
       "      <th>region</th>\n",
       "    </tr>\n",
       "  </thead>\n",
       "  <tbody>\n",
       "    <tr>\n",
       "      <th>0</th>\n",
       "      <td>pink morsel</td>\n",
       "      <td>$3.00</td>\n",
       "      <td>545</td>\n",
       "      <td>2019-06-11</td>\n",
       "      <td>north</td>\n",
       "    </tr>\n",
       "    <tr>\n",
       "      <th>1</th>\n",
       "      <td>pink morsel</td>\n",
       "      <td>$3.00</td>\n",
       "      <td>521</td>\n",
       "      <td>2019-06-11</td>\n",
       "      <td>south</td>\n",
       "    </tr>\n",
       "    <tr>\n",
       "      <th>2</th>\n",
       "      <td>pink morsel</td>\n",
       "      <td>$3.00</td>\n",
       "      <td>595</td>\n",
       "      <td>2019-06-11</td>\n",
       "      <td>east</td>\n",
       "    </tr>\n",
       "    <tr>\n",
       "      <th>3</th>\n",
       "      <td>pink morsel</td>\n",
       "      <td>$3.00</td>\n",
       "      <td>507</td>\n",
       "      <td>2019-06-11</td>\n",
       "      <td>west</td>\n",
       "    </tr>\n",
       "    <tr>\n",
       "      <th>4</th>\n",
       "      <td>gold morsel</td>\n",
       "      <td>$9.99</td>\n",
       "      <td>529</td>\n",
       "      <td>2019-06-11</td>\n",
       "      <td>north</td>\n",
       "    </tr>\n",
       "  </tbody>\n",
       "</table>\n",
       "</div>"
      ],
      "text/plain": [
       "       product  price  quantity        date region\n",
       "0  pink morsel  $3.00       545  2019-06-11  north\n",
       "1  pink morsel  $3.00       521  2019-06-11  south\n",
       "2  pink morsel  $3.00       595  2019-06-11   east\n",
       "3  pink morsel  $3.00       507  2019-06-11   west\n",
       "4  gold morsel  $9.99       529  2019-06-11  north"
      ]
     },
     "execution_count": 4,
     "metadata": {},
     "output_type": "execute_result"
    }
   ],
   "source": [
    "d1 = pd.read_csv('data/daily_sales_data_1.csv')\n",
    "d1.head()"
   ]
  },
  {
   "cell_type": "code",
   "execution_count": 5,
   "id": "31e1d073",
   "metadata": {},
   "outputs": [
    {
     "data": {
      "application/vnd.microsoft.datawrangler.viewer.v0+json": {
       "columns": [
        {
         "name": "index",
         "rawType": "int64",
         "type": "integer"
        },
        {
         "name": "product",
         "rawType": "object",
         "type": "string"
        },
        {
         "name": "price",
         "rawType": "object",
         "type": "string"
        },
        {
         "name": "quantity",
         "rawType": "int64",
         "type": "integer"
        },
        {
         "name": "date",
         "rawType": "object",
         "type": "string"
        },
        {
         "name": "region",
         "rawType": "object",
         "type": "string"
        }
       ],
       "ref": "8aa731bc-3e95-4b24-bee7-d4f4918bfea4",
       "rows": [
        [
         "0",
         "pink morsel",
         "$3.00",
         "526",
         "2020-10-13",
         "north"
        ],
        [
         "1",
         "pink morsel",
         "$3.00",
         "546",
         "2020-10-13",
         "south"
        ],
        [
         "2",
         "pink morsel",
         "$3.00",
         "505",
         "2020-10-13",
         "east"
        ],
        [
         "3",
         "pink morsel",
         "$3.00",
         "561",
         "2020-10-13",
         "west"
        ],
        [
         "4",
         "gold morsel",
         "$9.99",
         "553",
         "2020-10-13",
         "north"
        ]
       ],
       "shape": {
        "columns": 5,
        "rows": 5
       }
      },
      "text/html": [
       "<div>\n",
       "<style scoped>\n",
       "    .dataframe tbody tr th:only-of-type {\n",
       "        vertical-align: middle;\n",
       "    }\n",
       "\n",
       "    .dataframe tbody tr th {\n",
       "        vertical-align: top;\n",
       "    }\n",
       "\n",
       "    .dataframe thead th {\n",
       "        text-align: right;\n",
       "    }\n",
       "</style>\n",
       "<table border=\"1\" class=\"dataframe\">\n",
       "  <thead>\n",
       "    <tr style=\"text-align: right;\">\n",
       "      <th></th>\n",
       "      <th>product</th>\n",
       "      <th>price</th>\n",
       "      <th>quantity</th>\n",
       "      <th>date</th>\n",
       "      <th>region</th>\n",
       "    </tr>\n",
       "  </thead>\n",
       "  <tbody>\n",
       "    <tr>\n",
       "      <th>0</th>\n",
       "      <td>pink morsel</td>\n",
       "      <td>$3.00</td>\n",
       "      <td>526</td>\n",
       "      <td>2020-10-13</td>\n",
       "      <td>north</td>\n",
       "    </tr>\n",
       "    <tr>\n",
       "      <th>1</th>\n",
       "      <td>pink morsel</td>\n",
       "      <td>$3.00</td>\n",
       "      <td>546</td>\n",
       "      <td>2020-10-13</td>\n",
       "      <td>south</td>\n",
       "    </tr>\n",
       "    <tr>\n",
       "      <th>2</th>\n",
       "      <td>pink morsel</td>\n",
       "      <td>$3.00</td>\n",
       "      <td>505</td>\n",
       "      <td>2020-10-13</td>\n",
       "      <td>east</td>\n",
       "    </tr>\n",
       "    <tr>\n",
       "      <th>3</th>\n",
       "      <td>pink morsel</td>\n",
       "      <td>$3.00</td>\n",
       "      <td>561</td>\n",
       "      <td>2020-10-13</td>\n",
       "      <td>west</td>\n",
       "    </tr>\n",
       "    <tr>\n",
       "      <th>4</th>\n",
       "      <td>gold morsel</td>\n",
       "      <td>$9.99</td>\n",
       "      <td>553</td>\n",
       "      <td>2020-10-13</td>\n",
       "      <td>north</td>\n",
       "    </tr>\n",
       "  </tbody>\n",
       "</table>\n",
       "</div>"
      ],
      "text/plain": [
       "       product  price  quantity        date region\n",
       "0  pink morsel  $3.00       526  2020-10-13  north\n",
       "1  pink morsel  $3.00       546  2020-10-13  south\n",
       "2  pink morsel  $3.00       505  2020-10-13   east\n",
       "3  pink morsel  $3.00       561  2020-10-13   west\n",
       "4  gold morsel  $9.99       553  2020-10-13  north"
      ]
     },
     "execution_count": 5,
     "metadata": {},
     "output_type": "execute_result"
    }
   ],
   "source": [
    "d2 = pd.read_csv('data/daily_sales_data_2.csv')\n",
    "d2.head()"
   ]
  },
  {
   "cell_type": "code",
   "execution_count": 6,
   "id": "02fff629",
   "metadata": {},
   "outputs": [
    {
     "name": "stdout",
     "output_type": "stream",
     "text": [
      "product     0\n",
      "price       0\n",
      "quantity    0\n",
      "date        0\n",
      "region      0\n",
      "dtype: int64\n",
      "product     0\n",
      "price       0\n",
      "quantity    0\n",
      "date        0\n",
      "region      0\n",
      "dtype: int64\n",
      "product     0\n",
      "price       0\n",
      "quantity    0\n",
      "date        0\n",
      "region      0\n",
      "dtype: int64\n"
     ]
    }
   ],
   "source": [
    "# check na and missing values\n",
    "print(d0.isna().sum())\n",
    "print(d1.isna().sum())\n",
    "print(d2.isna().sum())"
   ]
  },
  {
   "cell_type": "code",
   "execution_count": 7,
   "id": "53423cc8",
   "metadata": {},
   "outputs": [
    {
     "data": {
      "application/vnd.microsoft.datawrangler.viewer.v0+json": {
       "columns": [
        {
         "name": "index",
         "rawType": "int64",
         "type": "integer"
        },
        {
         "name": "sales",
         "rawType": "float64",
         "type": "float"
        },
        {
         "name": "date",
         "rawType": "object",
         "type": "string"
        },
        {
         "name": "region",
         "rawType": "object",
         "type": "string"
        }
       ],
       "ref": "7eb6aa09-d06d-475d-a5aa-dd0b838bed91",
       "rows": [
        [
         "0",
         "1638.0",
         "2018-02-06",
         "north"
        ],
        [
         "1",
         "1647.0",
         "2018-02-06",
         "south"
        ],
        [
         "2",
         "1731.0",
         "2018-02-06",
         "east"
        ],
        [
         "3",
         "1557.0",
         "2018-02-06",
         "west"
        ],
        [
         "4",
         "5794.2",
         "2018-02-06",
         "north"
        ]
       ],
       "shape": {
        "columns": 3,
        "rows": 5
       }
      },
      "text/html": [
       "<div>\n",
       "<style scoped>\n",
       "    .dataframe tbody tr th:only-of-type {\n",
       "        vertical-align: middle;\n",
       "    }\n",
       "\n",
       "    .dataframe tbody tr th {\n",
       "        vertical-align: top;\n",
       "    }\n",
       "\n",
       "    .dataframe thead th {\n",
       "        text-align: right;\n",
       "    }\n",
       "</style>\n",
       "<table border=\"1\" class=\"dataframe\">\n",
       "  <thead>\n",
       "    <tr style=\"text-align: right;\">\n",
       "      <th></th>\n",
       "      <th>sales</th>\n",
       "      <th>date</th>\n",
       "      <th>region</th>\n",
       "    </tr>\n",
       "  </thead>\n",
       "  <tbody>\n",
       "    <tr>\n",
       "      <th>0</th>\n",
       "      <td>1638.0</td>\n",
       "      <td>2018-02-06</td>\n",
       "      <td>north</td>\n",
       "    </tr>\n",
       "    <tr>\n",
       "      <th>1</th>\n",
       "      <td>1647.0</td>\n",
       "      <td>2018-02-06</td>\n",
       "      <td>south</td>\n",
       "    </tr>\n",
       "    <tr>\n",
       "      <th>2</th>\n",
       "      <td>1731.0</td>\n",
       "      <td>2018-02-06</td>\n",
       "      <td>east</td>\n",
       "    </tr>\n",
       "    <tr>\n",
       "      <th>3</th>\n",
       "      <td>1557.0</td>\n",
       "      <td>2018-02-06</td>\n",
       "      <td>west</td>\n",
       "    </tr>\n",
       "    <tr>\n",
       "      <th>4</th>\n",
       "      <td>5794.2</td>\n",
       "      <td>2018-02-06</td>\n",
       "      <td>north</td>\n",
       "    </tr>\n",
       "  </tbody>\n",
       "</table>\n",
       "</div>"
      ],
      "text/plain": [
       "    sales        date region\n",
       "0  1638.0  2018-02-06  north\n",
       "1  1647.0  2018-02-06  south\n",
       "2  1731.0  2018-02-06   east\n",
       "3  1557.0  2018-02-06   west\n",
       "4  5794.2  2018-02-06  north"
      ]
     },
     "execution_count": 7,
     "metadata": {},
     "output_type": "execute_result"
    }
   ],
   "source": [
    "df = pd.concat([d0,d1,d2], axis=0)\n",
    "df = df.drop_duplicates()\n",
    "df.reset_index(drop=True, inplace=True)\n",
    "df['price'] = df['price'].str.replace('$', '', regex=False)\n",
    "df['price'] = pd.to_numeric(df['price'])\n",
    "df['sales'] = df[\"price\"] * df[\"quantity\"]\n",
    "df = df[['sales','date', 'region']]\n",
    "df.head()"
   ]
  },
  {
   "cell_type": "code",
   "execution_count": 10,
   "id": "2acca497",
   "metadata": {},
   "outputs": [],
   "source": [
    "df.to_csv(\"data/final.csv\" )"
   ]
  },
  {
   "cell_type": "code",
   "execution_count": 13,
   "id": "d8f38e83",
   "metadata": {},
   "outputs": [
    {
     "data": {
      "text/plain": [
       "Div(children=[Div(children=[H1(children='📊 Sales Data Visualization Dashboard', style={'textAlign': 'center', 'color': '#2c3e50', 'marginBottom': '30px', 'fontFamily': 'Arial, sans-serif', 'fontSize': '2.5em', 'fontWeight': 'bold', 'textShadow': '2px 2px 4px rgba(0,0,0,0.1)'})], style={'background': 'linear-gradient(135deg, #667eea 0%, #764ba2 100%)', 'padding': '20px', 'marginBottom': '30px', 'borderRadius': '10px', 'boxShadow': '0 4px 6px rgba(0, 0, 0, 0.1)'}), Div(children=[Div(children=[Label(children='Select Region:', style={'fontWeight': 'bold', 'fontSize': '1.2em', 'color': '#34495e', 'marginBottom': '10px', 'display': 'block'}), RadioItems(options=[{'label': 'North', 'value': 'north'}, {'label': 'South', 'value': 'south'}, {'label': 'East', 'value': 'east'}, {'label': 'West', 'value': 'west'}], value='north', inline=True, style={'display': 'flex', 'justifyContent': 'space-around', 'marginTop': '10px'}, inputStyle={'marginRight': '5px', 'transform': 'scale(1.2)'}, labelStyle={'marginRight': '20px', 'fontSize': '1.1em', 'color': '#2c3e50', 'fontWeight': '500'}, id='radio-selection')], style={'width': '48%', 'display': 'inline-block', 'padding': '20px', 'backgroundColor': '#ecf0f1', 'borderRadius': '10px', 'boxShadow': '0 2px 4px rgba(0,0,0,0.1)', 'marginRight': '2%'}), Div(children=[Label(children='Select Year:', style={'fontWeight': 'bold', 'fontSize': '1.2em', 'color': '#34495e', 'marginBottom': '10px', 'display': 'block'}), Dropdown(options=[{'label': '2018', 'value': np.int32(2018)}, {'label': '2019', 'value': np.int32(2019)}, {'label': '2020', 'value': np.int32(2020)}, {'label': '2021', 'value': np.int32(2021)}, {'label': '2022', 'value': np.int32(2022)}], value=np.int32(2018), style={'fontSize': '1.1em'}, id='year-dropdown')], style={'width': '48%', 'display': 'inline-block', 'padding': '20px', 'backgroundColor': '#ecf0f1', 'borderRadius': '10px', 'boxShadow': '0 2px 4px rgba(0,0,0,0.1)'})], style={'marginBottom': '30px'}), Div(children=[Graph(id='graph-content', style={'borderRadius': '10px', 'boxShadow': '0 4px 6px rgba(0,0,0,0.1)'})], style={'backgroundColor': 'white', 'padding': '20px', 'borderRadius': '10px', 'boxShadow': '0 4px 6px rgba(0,0,0,0.1)'})], style={'fontFamily': 'Arial, sans-serif', 'backgroundColor': '#f8f9fa', 'padding': '20px', 'minHeight': '100vh'})"
      ]
     },
     "execution_count": 13,
     "metadata": {},
     "output_type": "execute_result"
    }
   ],
   "source": [
    "from app import app \n",
    "app.layout"
   ]
  }
 ],
 "metadata": {
  "kernelspec": {
   "display_name": "quant",
   "language": "python",
   "name": "python3"
  },
  "language_info": {
   "codemirror_mode": {
    "name": "ipython",
    "version": 3
   },
   "file_extension": ".py",
   "mimetype": "text/x-python",
   "name": "python",
   "nbconvert_exporter": "python",
   "pygments_lexer": "ipython3",
   "version": "3.12.11"
  }
 },
 "nbformat": 4,
 "nbformat_minor": 5
}
