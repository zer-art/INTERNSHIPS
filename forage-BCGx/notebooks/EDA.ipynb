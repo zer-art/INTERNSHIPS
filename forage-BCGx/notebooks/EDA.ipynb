{
 "cells": [
  {
   "cell_type": "code",
   "execution_count": 119,
   "id": "55e9c715",
   "metadata": {},
   "outputs": [],
   "source": [
    "import pandas as pd \n",
    "import os"
   ]
  },
  {
   "cell_type": "markdown",
   "id": "34c5bb13",
   "metadata": {},
   "source": [
    "# Exploratory Data Analysis (EDA) of Financial Reports\n",
    "\n",
    "This notebook performs an exploratory data analysis on the financial data of Apple, Microsoft, and Tesla. The steps include:\n",
    "- Loading the data\n",
    "- Viewing basic information and summary statistics\n",
    "- Checking for missing values\n",
    "- Visualizing key metrics such as net income and growth\n",
    "- Drawing insights from the data"
   ]
  },
  {
   "cell_type": "markdown",
   "id": "b193c557",
   "metadata": {},
   "source": [
    "## Data Sources and Structure\n",
    "\n",
    "We use three Excel files containing financial data for Apple, Microsoft, and Tesla. Each file contains key metrics such as net income and other financial indicators."
   ]
  },
  {
   "cell_type": "markdown",
   "id": "f0453d2c",
   "metadata": {},
   "source": [
    "## Load Data\n",
    "\n",
    "We will load the Excel files for Apple, Microsoft, and Tesla using pandas."
   ]
  },
  {
   "cell_type": "code",
   "execution_count": 120,
   "id": "5f195eef",
   "metadata": {},
   "outputs": [
    {
     "data": {
      "text/plain": [
       "'/home/pawan/Dev/INTERNSHIPS/forage-BCGx'"
      ]
     },
     "execution_count": 120,
     "metadata": {},
     "output_type": "execute_result"
    }
   ],
   "source": [
    "os.getcwd()\n"
   ]
  },
  {
   "cell_type": "code",
   "execution_count": 121,
   "id": "54e5d636",
   "metadata": {},
   "outputs": [],
   "source": [
    "os.chdir('/home/pawan/Dev/INTERNSHIPS/forage-BCGx')"
   ]
  },
  {
   "cell_type": "code",
   "execution_count": 122,
   "id": "657bf988",
   "metadata": {},
   "outputs": [],
   "source": [
    "appl = pd.read_excel('data/appl_10k.xlsx', sheet_name ='s1')\n",
    "msft = pd.read_excel('data/msft_10k.xlsx', sheet_name ='Sheet1')\n",
    "tesla = pd.read_excel('data/tesla_10k.xlsx', sheet_name ='Sheet1')\n"
   ]
  },
  {
   "cell_type": "markdown",
   "id": "98068593",
   "metadata": {},
   "source": [
    "## Preview Data\n",
    "\n",
    "Let's view the first few rows of each dataset to understand their structure."
   ]
  },
  {
   "cell_type": "code",
   "execution_count": 123,
   "id": "aff0c06a",
   "metadata": {},
   "outputs": [
    {
     "name": "stdout",
     "output_type": "stream",
     "text": [
      "Apple Data:\n"
     ]
    },
    {
     "data": {
      "text/html": [
       "<div>\n",
       "<style scoped>\n",
       "    .dataframe tbody tr th:only-of-type {\n",
       "        vertical-align: middle;\n",
       "    }\n",
       "\n",
       "    .dataframe tbody tr th {\n",
       "        vertical-align: top;\n",
       "    }\n",
       "\n",
       "    .dataframe thead th {\n",
       "        text-align: right;\n",
       "    }\n",
       "</style>\n",
       "<table border=\"1\" class=\"dataframe\">\n",
       "  <thead>\n",
       "    <tr style=\"text-align: right;\">\n",
       "      <th></th>\n",
       "      <th>Financial Metric</th>\n",
       "      <th>Fiscal Year 2024</th>\n",
       "      <th>Fiscal Year 2023</th>\n",
       "      <th>Fiscal Year 2022</th>\n",
       "    </tr>\n",
       "  </thead>\n",
       "  <tbody>\n",
       "    <tr>\n",
       "      <th>0</th>\n",
       "      <td>Total Revenue</td>\n",
       "      <td>383286</td>\n",
       "      <td>394328</td>\n",
       "      <td>394328</td>\n",
       "    </tr>\n",
       "    <tr>\n",
       "      <th>1</th>\n",
       "      <td>Net Income</td>\n",
       "      <td>96995</td>\n",
       "      <td>99803</td>\n",
       "      <td>99803</td>\n",
       "    </tr>\n",
       "    <tr>\n",
       "      <th>2</th>\n",
       "      <td>Total Assets</td>\n",
       "      <td>352583</td>\n",
       "      <td>352583</td>\n",
       "      <td>352755</td>\n",
       "    </tr>\n",
       "    <tr>\n",
       "      <th>3</th>\n",
       "      <td>Total Liabilities</td>\n",
       "      <td>290437</td>\n",
       "      <td>290437</td>\n",
       "      <td>285138</td>\n",
       "    </tr>\n",
       "    <tr>\n",
       "      <th>4</th>\n",
       "      <td>Cash Flow from Operating Activities</td>\n",
       "      <td>110543</td>\n",
       "      <td>110543</td>\n",
       "      <td>110543</td>\n",
       "    </tr>\n",
       "  </tbody>\n",
       "</table>\n",
       "</div>"
      ],
      "text/plain": [
       "                      Financial Metric  Fiscal Year 2024  Fiscal Year 2023  \\\n",
       "0                        Total Revenue            383286            394328   \n",
       "1                           Net Income             96995             99803   \n",
       "2                         Total Assets            352583            352583   \n",
       "3                    Total Liabilities            290437            290437   \n",
       "4  Cash Flow from Operating Activities            110543            110543   \n",
       "\n",
       "   Fiscal Year 2022  \n",
       "0            394328  \n",
       "1             99803  \n",
       "2            352755  \n",
       "3            285138  \n",
       "4            110543  "
      ]
     },
     "metadata": {},
     "output_type": "display_data"
    },
    {
     "name": "stdout",
     "output_type": "stream",
     "text": [
      "Microsoft Data:\n"
     ]
    },
    {
     "data": {
      "text/html": [
       "<div>\n",
       "<style scoped>\n",
       "    .dataframe tbody tr th:only-of-type {\n",
       "        vertical-align: middle;\n",
       "    }\n",
       "\n",
       "    .dataframe tbody tr th {\n",
       "        vertical-align: top;\n",
       "    }\n",
       "\n",
       "    .dataframe thead th {\n",
       "        text-align: right;\n",
       "    }\n",
       "</style>\n",
       "<table border=\"1\" class=\"dataframe\">\n",
       "  <thead>\n",
       "    <tr style=\"text-align: right;\">\n",
       "      <th></th>\n",
       "      <th>Financial Figure</th>\n",
       "      <th>Fiscal Year 2025</th>\n",
       "      <th>Fiscal Year 2024</th>\n",
       "      <th>Fiscal Year 2023</th>\n",
       "    </tr>\n",
       "  </thead>\n",
       "  <tbody>\n",
       "    <tr>\n",
       "      <th>0</th>\n",
       "      <td>Total Revenue</td>\n",
       "      <td>264000</td>\n",
       "      <td>245000</td>\n",
       "      <td>211000</td>\n",
       "    </tr>\n",
       "    <tr>\n",
       "      <th>1</th>\n",
       "      <td>Net Income</td>\n",
       "      <td>93000</td>\n",
       "      <td>79000</td>\n",
       "      <td>72000</td>\n",
       "    </tr>\n",
       "    <tr>\n",
       "      <th>2</th>\n",
       "      <td>Total Assets</td>\n",
       "      <td>484000</td>\n",
       "      <td>454000</td>\n",
       "      <td>411000</td>\n",
       "    </tr>\n",
       "    <tr>\n",
       "      <th>3</th>\n",
       "      <td>Total Liabilities</td>\n",
       "      <td>209000</td>\n",
       "      <td>199000</td>\n",
       "      <td>187000</td>\n",
       "    </tr>\n",
       "    <tr>\n",
       "      <th>4</th>\n",
       "      <td>Cash Flow from Operating Activities</td>\n",
       "      <td>117000</td>\n",
       "      <td>104000</td>\n",
       "      <td>88000</td>\n",
       "    </tr>\n",
       "  </tbody>\n",
       "</table>\n",
       "</div>"
      ],
      "text/plain": [
       "                      Financial Figure  Fiscal Year 2025  Fiscal Year 2024  \\\n",
       "0                        Total Revenue            264000            245000   \n",
       "1                           Net Income             93000             79000   \n",
       "2                         Total Assets            484000            454000   \n",
       "3                    Total Liabilities            209000            199000   \n",
       "4  Cash Flow from Operating Activities            117000            104000   \n",
       "\n",
       "   Fiscal Year 2023  \n",
       "0            211000  \n",
       "1             72000  \n",
       "2            411000  \n",
       "3            187000  \n",
       "4             88000  "
      ]
     },
     "metadata": {},
     "output_type": "display_data"
    },
    {
     "name": "stdout",
     "output_type": "stream",
     "text": [
      "Tesla Data:\n"
     ]
    },
    {
     "data": {
      "text/html": [
       "<div>\n",
       "<style scoped>\n",
       "    .dataframe tbody tr th:only-of-type {\n",
       "        vertical-align: middle;\n",
       "    }\n",
       "\n",
       "    .dataframe tbody tr th {\n",
       "        vertical-align: top;\n",
       "    }\n",
       "\n",
       "    .dataframe thead th {\n",
       "        text-align: right;\n",
       "    }\n",
       "</style>\n",
       "<table border=\"1\" class=\"dataframe\">\n",
       "  <thead>\n",
       "    <tr style=\"text-align: right;\">\n",
       "      <th></th>\n",
       "      <th>Financial Metric</th>\n",
       "      <th>Fiscal Year 2024</th>\n",
       "      <th>Fiscal Year 2023</th>\n",
       "      <th>Fiscal Year 2022</th>\n",
       "    </tr>\n",
       "  </thead>\n",
       "  <tbody>\n",
       "    <tr>\n",
       "      <th>0</th>\n",
       "      <td>Total Revenue</td>\n",
       "      <td>97690</td>\n",
       "      <td>96773</td>\n",
       "      <td>81462</td>\n",
       "    </tr>\n",
       "    <tr>\n",
       "      <th>1</th>\n",
       "      <td>Net Income</td>\n",
       "      <td>7153</td>\n",
       "      <td>14974</td>\n",
       "      <td>12587</td>\n",
       "    </tr>\n",
       "    <tr>\n",
       "      <th>2</th>\n",
       "      <td>Total Assets</td>\n",
       "      <td>122070</td>\n",
       "      <td>106618</td>\n",
       "      <td>82338</td>\n",
       "    </tr>\n",
       "    <tr>\n",
       "      <th>3</th>\n",
       "      <td>Total Liabilities</td>\n",
       "      <td>48390</td>\n",
       "      <td>43009</td>\n",
       "      <td>36440</td>\n",
       "    </tr>\n",
       "    <tr>\n",
       "      <th>4</th>\n",
       "      <td>Cash Flow from Operating Activities</td>\n",
       "      <td>14923</td>\n",
       "      <td>13256</td>\n",
       "      <td>14724</td>\n",
       "    </tr>\n",
       "  </tbody>\n",
       "</table>\n",
       "</div>"
      ],
      "text/plain": [
       "                      Financial Metric  Fiscal Year 2024  Fiscal Year 2023  \\\n",
       "0                        Total Revenue             97690             96773   \n",
       "1                           Net Income              7153             14974   \n",
       "2                         Total Assets            122070            106618   \n",
       "3                    Total Liabilities             48390             43009   \n",
       "4  Cash Flow from Operating Activities             14923             13256   \n",
       "\n",
       "   Fiscal Year 2022  \n",
       "0             81462  \n",
       "1             12587  \n",
       "2             82338  \n",
       "3             36440  \n",
       "4             14724  "
      ]
     },
     "metadata": {},
     "output_type": "display_data"
    }
   ],
   "source": [
    "# Display first 5 rows of each dataset\n",
    "print('Apple Data:')\n",
    "display(appl.head())\n",
    "print('Microsoft Data:')\n",
    "display(msft.head())\n",
    "print('Tesla Data:')\n",
    "display(tesla.head())"
   ]
  },
  {
   "cell_type": "markdown",
   "id": "a194ab49",
   "metadata": {},
   "source": [
    "## Summary Statistics\n",
    "\n",
    "Let's view basic summary statistics for each dataset to understand the distribution of the financial metrics."
   ]
  },
  {
   "cell_type": "code",
   "execution_count": 124,
   "id": "a629356c",
   "metadata": {},
   "outputs": [
    {
     "name": "stdout",
     "output_type": "stream",
     "text": [
      "Apple Summary:\n"
     ]
    },
    {
     "data": {
      "text/html": [
       "<div>\n",
       "<style scoped>\n",
       "    .dataframe tbody tr th:only-of-type {\n",
       "        vertical-align: middle;\n",
       "    }\n",
       "\n",
       "    .dataframe tbody tr th {\n",
       "        vertical-align: top;\n",
       "    }\n",
       "\n",
       "    .dataframe thead th {\n",
       "        text-align: right;\n",
       "    }\n",
       "</style>\n",
       "<table border=\"1\" class=\"dataframe\">\n",
       "  <thead>\n",
       "    <tr style=\"text-align: right;\">\n",
       "      <th></th>\n",
       "      <th>Fiscal Year 2024</th>\n",
       "      <th>Fiscal Year 2023</th>\n",
       "      <th>Fiscal Year 2022</th>\n",
       "    </tr>\n",
       "  </thead>\n",
       "  <tbody>\n",
       "    <tr>\n",
       "      <th>count</th>\n",
       "      <td>5.000000</td>\n",
       "      <td>5.000000</td>\n",
       "      <td>5.000000</td>\n",
       "    </tr>\n",
       "    <tr>\n",
       "      <th>mean</th>\n",
       "      <td>246768.800000</td>\n",
       "      <td>249538.800000</td>\n",
       "      <td>248513.400000</td>\n",
       "    </tr>\n",
       "    <tr>\n",
       "      <th>std</th>\n",
       "      <td>134842.651135</td>\n",
       "      <td>136926.371248</td>\n",
       "      <td>136583.476685</td>\n",
       "    </tr>\n",
       "    <tr>\n",
       "      <th>min</th>\n",
       "      <td>96995.000000</td>\n",
       "      <td>99803.000000</td>\n",
       "      <td>99803.000000</td>\n",
       "    </tr>\n",
       "    <tr>\n",
       "      <th>25%</th>\n",
       "      <td>110543.000000</td>\n",
       "      <td>110543.000000</td>\n",
       "      <td>110543.000000</td>\n",
       "    </tr>\n",
       "    <tr>\n",
       "      <th>50%</th>\n",
       "      <td>290437.000000</td>\n",
       "      <td>290437.000000</td>\n",
       "      <td>285138.000000</td>\n",
       "    </tr>\n",
       "    <tr>\n",
       "      <th>75%</th>\n",
       "      <td>352583.000000</td>\n",
       "      <td>352583.000000</td>\n",
       "      <td>352755.000000</td>\n",
       "    </tr>\n",
       "    <tr>\n",
       "      <th>max</th>\n",
       "      <td>383286.000000</td>\n",
       "      <td>394328.000000</td>\n",
       "      <td>394328.000000</td>\n",
       "    </tr>\n",
       "  </tbody>\n",
       "</table>\n",
       "</div>"
      ],
      "text/plain": [
       "       Fiscal Year 2024  Fiscal Year 2023  Fiscal Year 2022\n",
       "count          5.000000          5.000000          5.000000\n",
       "mean      246768.800000     249538.800000     248513.400000\n",
       "std       134842.651135     136926.371248     136583.476685\n",
       "min        96995.000000      99803.000000      99803.000000\n",
       "25%       110543.000000     110543.000000     110543.000000\n",
       "50%       290437.000000     290437.000000     285138.000000\n",
       "75%       352583.000000     352583.000000     352755.000000\n",
       "max       383286.000000     394328.000000     394328.000000"
      ]
     },
     "metadata": {},
     "output_type": "display_data"
    },
    {
     "name": "stdout",
     "output_type": "stream",
     "text": [
      "Microsoft Summary:\n"
     ]
    },
    {
     "data": {
      "text/html": [
       "<div>\n",
       "<style scoped>\n",
       "    .dataframe tbody tr th:only-of-type {\n",
       "        vertical-align: middle;\n",
       "    }\n",
       "\n",
       "    .dataframe tbody tr th {\n",
       "        vertical-align: top;\n",
       "    }\n",
       "\n",
       "    .dataframe thead th {\n",
       "        text-align: right;\n",
       "    }\n",
       "</style>\n",
       "<table border=\"1\" class=\"dataframe\">\n",
       "  <thead>\n",
       "    <tr style=\"text-align: right;\">\n",
       "      <th></th>\n",
       "      <th>Fiscal Year 2025</th>\n",
       "      <th>Fiscal Year 2024</th>\n",
       "      <th>Fiscal Year 2023</th>\n",
       "    </tr>\n",
       "  </thead>\n",
       "  <tbody>\n",
       "    <tr>\n",
       "      <th>count</th>\n",
       "      <td>5.000000</td>\n",
       "      <td>5.000000</td>\n",
       "      <td>5.00000</td>\n",
       "    </tr>\n",
       "    <tr>\n",
       "      <th>mean</th>\n",
       "      <td>233400.000000</td>\n",
       "      <td>216200.000000</td>\n",
       "      <td>193800.00000</td>\n",
       "    </tr>\n",
       "    <tr>\n",
       "      <th>std</th>\n",
       "      <td>156199.551856</td>\n",
       "      <td>149237.059741</td>\n",
       "      <td>135597.56635</td>\n",
       "    </tr>\n",
       "    <tr>\n",
       "      <th>min</th>\n",
       "      <td>93000.000000</td>\n",
       "      <td>79000.000000</td>\n",
       "      <td>72000.00000</td>\n",
       "    </tr>\n",
       "    <tr>\n",
       "      <th>25%</th>\n",
       "      <td>117000.000000</td>\n",
       "      <td>104000.000000</td>\n",
       "      <td>88000.00000</td>\n",
       "    </tr>\n",
       "    <tr>\n",
       "      <th>50%</th>\n",
       "      <td>209000.000000</td>\n",
       "      <td>199000.000000</td>\n",
       "      <td>187000.00000</td>\n",
       "    </tr>\n",
       "    <tr>\n",
       "      <th>75%</th>\n",
       "      <td>264000.000000</td>\n",
       "      <td>245000.000000</td>\n",
       "      <td>211000.00000</td>\n",
       "    </tr>\n",
       "    <tr>\n",
       "      <th>max</th>\n",
       "      <td>484000.000000</td>\n",
       "      <td>454000.000000</td>\n",
       "      <td>411000.00000</td>\n",
       "    </tr>\n",
       "  </tbody>\n",
       "</table>\n",
       "</div>"
      ],
      "text/plain": [
       "       Fiscal Year 2025  Fiscal Year 2024  Fiscal Year 2023\n",
       "count          5.000000          5.000000           5.00000\n",
       "mean      233400.000000     216200.000000      193800.00000\n",
       "std       156199.551856     149237.059741      135597.56635\n",
       "min        93000.000000      79000.000000       72000.00000\n",
       "25%       117000.000000     104000.000000       88000.00000\n",
       "50%       209000.000000     199000.000000      187000.00000\n",
       "75%       264000.000000     245000.000000      211000.00000\n",
       "max       484000.000000     454000.000000      411000.00000"
      ]
     },
     "metadata": {},
     "output_type": "display_data"
    },
    {
     "name": "stdout",
     "output_type": "stream",
     "text": [
      "Tesla Summary:\n"
     ]
    },
    {
     "data": {
      "text/html": [
       "<div>\n",
       "<style scoped>\n",
       "    .dataframe tbody tr th:only-of-type {\n",
       "        vertical-align: middle;\n",
       "    }\n",
       "\n",
       "    .dataframe tbody tr th {\n",
       "        vertical-align: top;\n",
       "    }\n",
       "\n",
       "    .dataframe thead th {\n",
       "        text-align: right;\n",
       "    }\n",
       "</style>\n",
       "<table border=\"1\" class=\"dataframe\">\n",
       "  <thead>\n",
       "    <tr style=\"text-align: right;\">\n",
       "      <th></th>\n",
       "      <th>Fiscal Year 2024</th>\n",
       "      <th>Fiscal Year 2023</th>\n",
       "      <th>Fiscal Year 2022</th>\n",
       "    </tr>\n",
       "  </thead>\n",
       "  <tbody>\n",
       "    <tr>\n",
       "      <th>count</th>\n",
       "      <td>5.000000</td>\n",
       "      <td>5.000000</td>\n",
       "      <td>5.000000</td>\n",
       "    </tr>\n",
       "    <tr>\n",
       "      <th>mean</th>\n",
       "      <td>58045.200000</td>\n",
       "      <td>54926.000000</td>\n",
       "      <td>45510.200000</td>\n",
       "    </tr>\n",
       "    <tr>\n",
       "      <th>std</th>\n",
       "      <td>50531.297784</td>\n",
       "      <td>44434.784702</td>\n",
       "      <td>34506.573695</td>\n",
       "    </tr>\n",
       "    <tr>\n",
       "      <th>min</th>\n",
       "      <td>7153.000000</td>\n",
       "      <td>13256.000000</td>\n",
       "      <td>12587.000000</td>\n",
       "    </tr>\n",
       "    <tr>\n",
       "      <th>25%</th>\n",
       "      <td>14923.000000</td>\n",
       "      <td>14974.000000</td>\n",
       "      <td>14724.000000</td>\n",
       "    </tr>\n",
       "    <tr>\n",
       "      <th>50%</th>\n",
       "      <td>48390.000000</td>\n",
       "      <td>43009.000000</td>\n",
       "      <td>36440.000000</td>\n",
       "    </tr>\n",
       "    <tr>\n",
       "      <th>75%</th>\n",
       "      <td>97690.000000</td>\n",
       "      <td>96773.000000</td>\n",
       "      <td>81462.000000</td>\n",
       "    </tr>\n",
       "    <tr>\n",
       "      <th>max</th>\n",
       "      <td>122070.000000</td>\n",
       "      <td>106618.000000</td>\n",
       "      <td>82338.000000</td>\n",
       "    </tr>\n",
       "  </tbody>\n",
       "</table>\n",
       "</div>"
      ],
      "text/plain": [
       "       Fiscal Year 2024  Fiscal Year 2023  Fiscal Year 2022\n",
       "count          5.000000          5.000000          5.000000\n",
       "mean       58045.200000      54926.000000      45510.200000\n",
       "std        50531.297784      44434.784702      34506.573695\n",
       "min         7153.000000      13256.000000      12587.000000\n",
       "25%        14923.000000      14974.000000      14724.000000\n",
       "50%        48390.000000      43009.000000      36440.000000\n",
       "75%        97690.000000      96773.000000      81462.000000\n",
       "max       122070.000000     106618.000000      82338.000000"
      ]
     },
     "metadata": {},
     "output_type": "display_data"
    }
   ],
   "source": [
    "# Summary statistics for each dataset\n",
    "print('Apple Summary:')\n",
    "display(appl.describe())\n",
    "print('Microsoft Summary:')\n",
    "display(msft.describe())\n",
    "print('Tesla Summary:')\n",
    "display(tesla.describe())"
   ]
  },
  {
   "cell_type": "markdown",
   "id": "40f25b0a",
   "metadata": {},
   "source": [
    "## Missing Value Analysis\n",
    "\n",
    "Let's check for missing values in each dataset to ensure data quality."
   ]
  },
  {
   "cell_type": "code",
   "execution_count": 125,
   "id": "d4fbb64c",
   "metadata": {},
   "outputs": [
    {
     "name": "stdout",
     "output_type": "stream",
     "text": [
      "Apple Missing Values:\n"
     ]
    },
    {
     "data": {
      "text/plain": [
       "Financial Metric    0\n",
       "Fiscal Year 2024    0\n",
       "Fiscal Year 2023    0\n",
       "Fiscal Year 2022    0\n",
       "dtype: int64"
      ]
     },
     "metadata": {},
     "output_type": "display_data"
    },
    {
     "name": "stdout",
     "output_type": "stream",
     "text": [
      "Microsoft Missing Values:\n"
     ]
    },
    {
     "data": {
      "text/plain": [
       "Financial Figure    0\n",
       "Fiscal Year 2025    0\n",
       "Fiscal Year 2024    0\n",
       "Fiscal Year 2023    0\n",
       "dtype: int64"
      ]
     },
     "metadata": {},
     "output_type": "display_data"
    },
    {
     "name": "stdout",
     "output_type": "stream",
     "text": [
      "Tesla Missing Values:\n"
     ]
    },
    {
     "data": {
      "text/plain": [
       "Financial Metric    0\n",
       "Fiscal Year 2024    0\n",
       "Fiscal Year 2023    0\n",
       "Fiscal Year 2022    0\n",
       "dtype: int64"
      ]
     },
     "metadata": {},
     "output_type": "display_data"
    }
   ],
   "source": [
    "# Check for missing values in each dataset\n",
    "print('Apple Missing Values:')\n",
    "display(appl.isnull().sum())\n",
    "print('Microsoft Missing Values:')\n",
    "display(msft.isnull().sum())\n",
    "print('Tesla Missing Values:')\n",
    "display(tesla.isnull().sum())"
   ]
  },
  {
   "cell_type": "markdown",
   "id": "86dfc31d",
   "metadata": {},
   "source": [
    "## Net Growth Increment % and Income Analysis\n",
    "\n",
    "We will calculate the net growth increment percentage and income for Apple, Microsoft, and Tesla, and visualize these metrics using bar charts for comparison."
   ]
  },
  {
   "cell_type": "markdown",
   "id": "e84b79d9",
   "metadata": {},
   "source": [
    "## Visual Analysis of Key Metrics\n",
    "\n",
    "We will visualize net income and growth metrics for each company to compare their financial performance."
   ]
  },
  {
   "cell_type": "code",
   "execution_count": 126,
   "id": "92797956",
   "metadata": {},
   "outputs": [
    {
     "name": "stdout",
     "output_type": "stream",
     "text": [
      "Apple columns: ['Financial Metric', 'Fiscal Year 2024', 'Fiscal Year 2023', 'Fiscal Year 2022']\n"
     ]
    },
    {
     "data": {
      "text/html": [
       "<div>\n",
       "<style scoped>\n",
       "    .dataframe tbody tr th:only-of-type {\n",
       "        vertical-align: middle;\n",
       "    }\n",
       "\n",
       "    .dataframe tbody tr th {\n",
       "        vertical-align: top;\n",
       "    }\n",
       "\n",
       "    .dataframe thead th {\n",
       "        text-align: right;\n",
       "    }\n",
       "</style>\n",
       "<table border=\"1\" class=\"dataframe\">\n",
       "  <thead>\n",
       "    <tr style=\"text-align: right;\">\n",
       "      <th></th>\n",
       "      <th>Financial Metric</th>\n",
       "      <th>Fiscal Year 2024</th>\n",
       "      <th>Fiscal Year 2023</th>\n",
       "      <th>Fiscal Year 2022</th>\n",
       "    </tr>\n",
       "  </thead>\n",
       "  <tbody>\n",
       "    <tr>\n",
       "      <th>0</th>\n",
       "      <td>Total Revenue</td>\n",
       "      <td>383286</td>\n",
       "      <td>394328</td>\n",
       "      <td>394328</td>\n",
       "    </tr>\n",
       "    <tr>\n",
       "      <th>1</th>\n",
       "      <td>Net Income</td>\n",
       "      <td>96995</td>\n",
       "      <td>99803</td>\n",
       "      <td>99803</td>\n",
       "    </tr>\n",
       "    <tr>\n",
       "      <th>2</th>\n",
       "      <td>Total Assets</td>\n",
       "      <td>352583</td>\n",
       "      <td>352583</td>\n",
       "      <td>352755</td>\n",
       "    </tr>\n",
       "    <tr>\n",
       "      <th>3</th>\n",
       "      <td>Total Liabilities</td>\n",
       "      <td>290437</td>\n",
       "      <td>290437</td>\n",
       "      <td>285138</td>\n",
       "    </tr>\n",
       "    <tr>\n",
       "      <th>4</th>\n",
       "      <td>Cash Flow from Operating Activities</td>\n",
       "      <td>110543</td>\n",
       "      <td>110543</td>\n",
       "      <td>110543</td>\n",
       "    </tr>\n",
       "  </tbody>\n",
       "</table>\n",
       "</div>"
      ],
      "text/plain": [
       "                      Financial Metric  Fiscal Year 2024  Fiscal Year 2023  \\\n",
       "0                        Total Revenue            383286            394328   \n",
       "1                           Net Income             96995             99803   \n",
       "2                         Total Assets            352583            352583   \n",
       "3                    Total Liabilities            290437            290437   \n",
       "4  Cash Flow from Operating Activities            110543            110543   \n",
       "\n",
       "   Fiscal Year 2022  \n",
       "0            394328  \n",
       "1             99803  \n",
       "2            352755  \n",
       "3            285138  \n",
       "4            110543  "
      ]
     },
     "metadata": {},
     "output_type": "display_data"
    },
    {
     "name": "stdout",
     "output_type": "stream",
     "text": [
      "Microsoft columns: ['Financial Figure', 'Fiscal Year 2025', 'Fiscal Year 2024', 'Fiscal Year 2023']\n"
     ]
    },
    {
     "data": {
      "text/html": [
       "<div>\n",
       "<style scoped>\n",
       "    .dataframe tbody tr th:only-of-type {\n",
       "        vertical-align: middle;\n",
       "    }\n",
       "\n",
       "    .dataframe tbody tr th {\n",
       "        vertical-align: top;\n",
       "    }\n",
       "\n",
       "    .dataframe thead th {\n",
       "        text-align: right;\n",
       "    }\n",
       "</style>\n",
       "<table border=\"1\" class=\"dataframe\">\n",
       "  <thead>\n",
       "    <tr style=\"text-align: right;\">\n",
       "      <th></th>\n",
       "      <th>Financial Figure</th>\n",
       "      <th>Fiscal Year 2025</th>\n",
       "      <th>Fiscal Year 2024</th>\n",
       "      <th>Fiscal Year 2023</th>\n",
       "    </tr>\n",
       "  </thead>\n",
       "  <tbody>\n",
       "    <tr>\n",
       "      <th>0</th>\n",
       "      <td>Total Revenue</td>\n",
       "      <td>264000</td>\n",
       "      <td>245000</td>\n",
       "      <td>211000</td>\n",
       "    </tr>\n",
       "    <tr>\n",
       "      <th>1</th>\n",
       "      <td>Net Income</td>\n",
       "      <td>93000</td>\n",
       "      <td>79000</td>\n",
       "      <td>72000</td>\n",
       "    </tr>\n",
       "    <tr>\n",
       "      <th>2</th>\n",
       "      <td>Total Assets</td>\n",
       "      <td>484000</td>\n",
       "      <td>454000</td>\n",
       "      <td>411000</td>\n",
       "    </tr>\n",
       "    <tr>\n",
       "      <th>3</th>\n",
       "      <td>Total Liabilities</td>\n",
       "      <td>209000</td>\n",
       "      <td>199000</td>\n",
       "      <td>187000</td>\n",
       "    </tr>\n",
       "    <tr>\n",
       "      <th>4</th>\n",
       "      <td>Cash Flow from Operating Activities</td>\n",
       "      <td>117000</td>\n",
       "      <td>104000</td>\n",
       "      <td>88000</td>\n",
       "    </tr>\n",
       "  </tbody>\n",
       "</table>\n",
       "</div>"
      ],
      "text/plain": [
       "                      Financial Figure  Fiscal Year 2025  Fiscal Year 2024  \\\n",
       "0                        Total Revenue            264000            245000   \n",
       "1                           Net Income             93000             79000   \n",
       "2                         Total Assets            484000            454000   \n",
       "3                    Total Liabilities            209000            199000   \n",
       "4  Cash Flow from Operating Activities            117000            104000   \n",
       "\n",
       "   Fiscal Year 2023  \n",
       "0            211000  \n",
       "1             72000  \n",
       "2            411000  \n",
       "3            187000  \n",
       "4             88000  "
      ]
     },
     "metadata": {},
     "output_type": "display_data"
    },
    {
     "name": "stdout",
     "output_type": "stream",
     "text": [
      "Tesla columns: ['Financial Metric', 'Fiscal Year 2024', 'Fiscal Year 2023', 'Fiscal Year 2022']\n"
     ]
    },
    {
     "data": {
      "text/html": [
       "<div>\n",
       "<style scoped>\n",
       "    .dataframe tbody tr th:only-of-type {\n",
       "        vertical-align: middle;\n",
       "    }\n",
       "\n",
       "    .dataframe tbody tr th {\n",
       "        vertical-align: top;\n",
       "    }\n",
       "\n",
       "    .dataframe thead th {\n",
       "        text-align: right;\n",
       "    }\n",
       "</style>\n",
       "<table border=\"1\" class=\"dataframe\">\n",
       "  <thead>\n",
       "    <tr style=\"text-align: right;\">\n",
       "      <th></th>\n",
       "      <th>Financial Metric</th>\n",
       "      <th>Fiscal Year 2024</th>\n",
       "      <th>Fiscal Year 2023</th>\n",
       "      <th>Fiscal Year 2022</th>\n",
       "    </tr>\n",
       "  </thead>\n",
       "  <tbody>\n",
       "    <tr>\n",
       "      <th>0</th>\n",
       "      <td>Total Revenue</td>\n",
       "      <td>97690</td>\n",
       "      <td>96773</td>\n",
       "      <td>81462</td>\n",
       "    </tr>\n",
       "    <tr>\n",
       "      <th>1</th>\n",
       "      <td>Net Income</td>\n",
       "      <td>7153</td>\n",
       "      <td>14974</td>\n",
       "      <td>12587</td>\n",
       "    </tr>\n",
       "    <tr>\n",
       "      <th>2</th>\n",
       "      <td>Total Assets</td>\n",
       "      <td>122070</td>\n",
       "      <td>106618</td>\n",
       "      <td>82338</td>\n",
       "    </tr>\n",
       "    <tr>\n",
       "      <th>3</th>\n",
       "      <td>Total Liabilities</td>\n",
       "      <td>48390</td>\n",
       "      <td>43009</td>\n",
       "      <td>36440</td>\n",
       "    </tr>\n",
       "    <tr>\n",
       "      <th>4</th>\n",
       "      <td>Cash Flow from Operating Activities</td>\n",
       "      <td>14923</td>\n",
       "      <td>13256</td>\n",
       "      <td>14724</td>\n",
       "    </tr>\n",
       "  </tbody>\n",
       "</table>\n",
       "</div>"
      ],
      "text/plain": [
       "                      Financial Metric  Fiscal Year 2024  Fiscal Year 2023  \\\n",
       "0                        Total Revenue             97690             96773   \n",
       "1                           Net Income              7153             14974   \n",
       "2                         Total Assets            122070            106618   \n",
       "3                    Total Liabilities             48390             43009   \n",
       "4  Cash Flow from Operating Activities             14923             13256   \n",
       "\n",
       "   Fiscal Year 2022  \n",
       "0             81462  \n",
       "1             12587  \n",
       "2             82338  \n",
       "3             36440  \n",
       "4             14724  "
      ]
     },
     "metadata": {},
     "output_type": "display_data"
    }
   ],
   "source": [
    "# Display column names and first few rows to identify metric column\n",
    "print('Apple columns:', appl.columns.tolist())\n",
    "display(appl.head())\n",
    "print('Microsoft columns:', msft.columns.tolist())\n",
    "display(msft.head())\n",
    "print('Tesla columns:', tesla.columns.tolist())\n",
    "display(tesla.head())"
   ]
  },
  {
   "cell_type": "code",
   "execution_count": 127,
   "id": "3fb11816",
   "metadata": {},
   "outputs": [
    {
     "data": {
      "image/png": "[encoded data removed]",
      "text/plain": [
       "<Figure size 800x500 with 1 Axes>"
      ]
     },
     "metadata": {},
     "output_type": "display_data"
    },
    {
     "data": {
      "image/png": "[encoded data removed]",
      "text/plain": [
       "<Figure size 800x500 with 1 Axes>"
      ]
     },
     "metadata": {},
     "output_type": "display_data"
    }
   ],
   "source": [
    "# Auto-detect the metric column and calculate growth % and net income % for all companies\n",
    "def find_metric_col(df):\n",
    "    for col in df.columns:\n",
    "        if any(x in col.lower() for x in ['metric', 'financial']):\n",
    "            return col\n",
    "    return df.columns[0]  # fallback\n",
    "\n",
    "metric_col_appl = find_metric_col(appl)\n",
    "metric_col_msft = find_metric_col(msft)\n",
    "metric_col_tesla = find_metric_col(tesla)\n",
    "\n",
    "def get_metric(df, metric, metric_col):\n",
    "    row = df[df[metric_col] == metric]\n",
    "    return row.iloc[0, 1:].astype(float)\n",
    "\n",
    "appl_revenue = get_metric(appl, 'Total Revenue', metric_col_appl)\n",
    "appl_net_income = get_metric(appl, 'Net Income', metric_col_appl)\n",
    "msft_revenue = get_metric(msft, 'Total Revenue', metric_col_msft)\n",
    "msft_net_income = get_metric(msft, 'Net Income', metric_col_msft)\n",
    "tesla_revenue = get_metric(tesla, 'Total Revenue', metric_col_tesla)\n",
    "tesla_net_income = get_metric(tesla, 'Net Income', metric_col_tesla)\n",
    "\n",
    "years = appl.columns[1:]  # assumes years are columns 2,3,4\n",
    "\n",
    "def calc_growth(series):\n",
    "    return ((series.iloc[0] - series.iloc[-1]) / series.iloc[-1]) * 100\n",
    "\n",
    "appl_revenue_growth = calc_growth(appl_revenue)\n",
    "msft_revenue_growth = calc_growth(msft_revenue)\n",
    "tesla_revenue_growth = calc_growth(tesla_revenue)\n",
    "\n",
    "appl_net_income_growth = calc_growth(appl_net_income)\n",
    "msft_net_income_growth = calc_growth(msft_net_income)\n",
    "tesla_net_income_growth = calc_growth(tesla_net_income)\n",
    "\n",
    "companies = ['Apple', 'Microsoft', 'Tesla']\n",
    "revenue_growth = [appl_revenue_growth, msft_revenue_growth, tesla_revenue_growth]\n",
    "net_income_growth = [appl_net_income_growth, msft_net_income_growth, tesla_net_income_growth]\n",
    "\n",
    "plt.figure(figsize=(8,5))\n",
    "sns.barplot(x=companies, y=revenue_growth)\n",
    "plt.title('Revenue Growth % (2022-2024)')\n",
    "plt.ylabel('Growth (%)')\n",
    "plt.show()\n",
    "\n",
    "plt.figure(figsize=(8,5))\n",
    "sns.barplot(x=companies, y=net_income_growth)\n",
    "plt.title('Net Income Growth % (2022-2024)')\n",
    "plt.ylabel('Growth (%)')\n",
    "plt.show()"
   ]
  }
 ],
 "metadata": {
  "kernelspec": {
   "display_name": "academics",
   "language": "python",
   "name": "python3"
  },
  "language_info": {
   "codemirror_mode": {
    "name": "ipython",
    "version": 3
   },
   "file_extension": ".py",
   "mimetype": "text/x-python",
   "name": "python",
   "nbconvert_exporter": "python",
   "pygments_lexer": "ipython3",
   "version": "3.12.11"
  }
 },
 "nbformat": 4,
 "nbformat_minor": 5
}
